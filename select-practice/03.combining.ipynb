{
 "cells": [
  {
   "cell_type": "markdown",
   "id": "353f44c6",
   "metadata": {},
   "source": [
    "## Combinando Datos de Múltiples Tablas"
   ]
  },
  {
   "cell_type": "markdown",
   "id": "72f8d239",
   "metadata": {},
   "source": [
    "Hasta ahora, nos hemos enfocado en consultar datos de una sola tabla. Sin embargo, la verdadera fuerza de las bases de datos relacionales está en cómo conectan la información a través de sus relaciones.\n",
    "\n",
    "La normalización nos ayuda a diseñar estructuras eficientes y sin redundancias, dividiendo los datos en varias tablas relacionadas. Pero, a la hora de analizar o presentar información útil y especializada, muchas veces necesitamos \"romper\" esa normalización: combinamos datos de distintas tablas para obtener respuestas concretas y adaptadas a nuestras necesidades. Ahora vamos a aprender cómo reunir y transformar esos datos dispersos en resultados realmente valiosos."
   ]
  },
  {
   "cell_type": "markdown",
   "id": "2c014212",
   "metadata": {},
   "source": [
    "Existen tres formas principales de combinar tablas en SQL, cada una asociada a una parte clave de la consulta:\n",
    "\n",
    "- Usando `JOIN` en la cláusula `FROM` para unir tablas explícitamente.\n",
    "- Utilizando tablas derivadas (tipo de subconsulta que ocurre solo en la cláusula `FROM`).\n",
    "- Aplicando subconsultas en la cláusula `WHERE` para filtrar datos en función de otras tablas.\n",
    "\n",
    "Cada método tiene su propósito y nos permite adaptar la consulta según la información que queremos obtener."
   ]
  }
 ],
 "metadata": {
  "language_info": {
   "name": "python"
  }
 },
 "nbformat": 4,
 "nbformat_minor": 5
}
