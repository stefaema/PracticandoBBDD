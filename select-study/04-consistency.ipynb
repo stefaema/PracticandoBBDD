{
 "cells": [
  {
   "cell_type": "markdown",
   "id": "039d04ef",
   "metadata": {},
   "source": [
    "# Consistencia y Concurrencia en SQL"
   ]
  },
  {
   "cell_type": "markdown",
   "id": "71940cfa",
   "metadata": {},
   "source": [
    "## Transacción: Primer Eslabón de la Consistencia"
   ]
  },
  {
   "cell_type": "markdown",
   "id": "9d5dd571",
   "metadata": {},
   "source": [
    "Una herramienta importante que debe tener todo motor de base de datos es la de garantizar la **consistencia** de los datos.\n",
    "\n",
    "Para ello, una solución es definir el concepto de transacción:\n",
    "\n",
    "\"*Es la denominación atómica de un conjunto de acciones, resuelta en su completitud o no resulta. Se considera como una unidad básica de recuperación que garantiza la integridad de los datos*\"\n",
    "\n",
    "\n",
    "\n"
   ]
  },
  {
   "cell_type": "markdown",
   "id": "3f3d0259",
   "metadata": {},
   "source": [
    "### Ciclo de Vida de una Transacción\n",
    "\n",
    "El ciclo de vida de una transacción en SQL sigue estos pasos fundamentales:\n",
    "\n",
    "1. **BEGIN**  \n",
    "   La transacción comienza explícitamente con el comando `BEGIN` (o `START TRANSACTION`). A partir de aquí, todas las operaciones forman parte de una misma unidad lógica.\n",
    "\n",
    "2. **Ejecución de Operaciones**  \n",
    "   Se ejecutan una o varias instrucciones SQL (INSERT, UPDATE, DELETE, etc.) que modifican los datos.\n",
    "\n",
    "3. **¿Ocurrió algún fallo?**  \n",
    "   - **Sí, hubo un error:**  \n",
    "     Se ejecuta un `ROLLBACK`, lo que deshace todos los cambios realizados durante la transacción. Los datos vuelven al estado anterior al `BEGIN`.\n",
    "   - **No, todo salió bien:**  \n",
    "     Se ejecuta un `COMMIT`, lo que confirma y guarda de forma permanente todos los cambios realizados en la transacción.\n",
    "\n",
    "**Resumen visual:**\n",
    "<center>\n",
    "BEGIN \n",
    "\n",
    "↓\n",
    "\n",
    "EJECUCIÓN DE OPERACIONES\n",
    "\n",
    "↓\n",
    "\n",
    "¿FALLO? \n",
    "\n",
    "SI↙ ↘NO \n",
    "\n",
    "ROLLBACK     COMMIT\n",
    "</center>"
   ]
  },
  {
   "cell_type": "markdown",
   "id": "440dd987",
   "metadata": {},
   "source": [
    "## Recuperación, Logs y el Recovery Manager"
   ]
  },
  {
   "cell_type": "markdown",
   "id": "a31db3bf",
   "metadata": {},
   "source": [
    "La consistencia de los datos no solo se basa en transacciones. Si bien la transacción me sirve para mantener un conjunto de acciones atómica, existe otro concepto a tener en cuenta: **la consistencia o coherencia de datos que estén en un almacenamiento intermedio**.\n",
    "\n",
    "Cuando hacemos un commit y por lo tanto damos como terminada una transacción, esto no significa que esta nueva información impacte directamente en la base de datos, porque puede que los cambios sigan en el caché o buffer de la RAM por temas de optimización.\n",
    "\n",
    "> De hecho, al evento en el cuál el caché en memoria impacta en la base de datos real se lo denomina **Checkpoint** y es un tipo de operación.\n",
    "\n",
    "Si llega a pasar que ante un error de sistema no hubo Checkpoint, estaremos en un problema. \n",
    "\n",
    "Por ello,la mayoría de los motores de bases de datos implementan un sistema \"*directo a disco*\" que almacena las acciones (no los datos) realizados a modo de historial, para que en caso de un fallo estas acciones se puedan repetir. Esto se conoce como Logging.\n",
    "\n",
    "\n",
    "\n",
    "\n",
    "\n"
   ]
  },
  {
   "cell_type": "markdown",
   "id": "005d2356",
   "metadata": {},
   "source": [
    "### Logs"
   ]
  },
  {
   "cell_type": "markdown",
   "id": "3acbb4ab",
   "metadata": {},
   "source": [
    "\n",
    "\n",
    "Los logs son archivos que registran secuencialmente todas las operaciones que modifican los datos de una base de datos **en el almacenamiento persistente**. Su propósito es garantizar la recuperación y la consistencia de la información ante fallos del sistema o caídas inesperadas.\n",
    "\n",
    "Cada entrada en el log (también conocida como registro de log) contiene información detallada sobre una operación específica, permitiendo reconstruir o revertir transacciones según sea necesario.\n",
    "\n",
    "De esta forma, se almacena lo siguiente:\n",
    "- **Log Sequence Number (LSN)**: Identificador único y secuencial de la entrada en el log.\n",
    "- **LSN anterior**: Referencia al LSN del registro anterior, formando una cadena de dependencias (como una LLI).\n",
    "- **Timestamp**: Momento exacto en que se realizó la operación.\n",
    "- **ID de Transacción**: Identificador único de la transacción que ejecutó la operación (Más de un registro/operación por transacción).\n",
    "- **LSN previo de la transacción**: Último LSN de la transacción anterior.\n",
    "- **Acción realizada**: Tipo de operación ejecutada, como `insert`, `delete`, `update`, `begin`, `commit`, o `checkpoint`.\n",
    "- **Item alterado**: Identificador del elemento de datos modificado.\n",
    "- **Valor previo**: Valor que tenía el item antes de la operación.\n",
    "- **Valor actual**: Valor que tiene el item luego de la operación.\n"
   ]
  },
  {
   "cell_type": "markdown",
   "id": "2e5e577d",
   "metadata": {},
   "source": [
    "### Recovery Manager y Algoritmo ante Fallas"
   ]
  },
  {
   "cell_type": "markdown",
   "id": "f56d501d",
   "metadata": {},
   "source": [
    "Esta recuperación ante fallas que se presentó en la sección anterior corresponde con las competencias de un componente muy importante de cualquier motor de base de datos: el **Recovery Manager**.\n",
    "\n",
    "El mismo es capaz de ejecutar rutinas de recuperación capaces de solucionar la integridad de los datos ante eventos desafortunados como los antes mencionados.\n",
    "\n",
    ">**NOTA**:\n",
    ">\n",
    ">Los datos en \"*peligro*\" de los que se habla son aquellos ocurridos entre el último Checkpoint y la falla."
   ]
  },
  {
   "cell_type": "markdown",
   "id": "6095ed39",
   "metadata": {},
   "source": [
    "Una de las *rutinas* que ejecuta es lo que se conoce como \"*Algoritmo Undo- Redo*\""
   ]
  },
  {
   "cell_type": "markdown",
   "id": "345cf854",
   "metadata": {},
   "source": [
    "#### Algoritmo Undo-Redo"
   ]
  },
  {
   "cell_type": "markdown",
   "id": "588b6920",
   "metadata": {},
   "source": [
    "Funciona de la siguiente manera:\n",
    "\n",
    "0. Supongamos que se ejecutaron varias transacciones y se realizó un checkpoint. Luego, ocurrieron más transacciones hasta que se produjo una falla. Algunas de esas operaciones no se reflejaron en la base de datos, pero pueden recuperarse gracias al log y al Recovery Manager.\n",
    "\n",
    "1. Se crean dos listas:\n",
    "   - **UNDO**: contiene transacciones activas al momento del checkpoint.\n",
    "   - **REDO**: almacenará transacciones que hayan finalizado correctamente.\n",
    "\n",
    "2. Se recorre el log en orden cronológico:\n",
    "   - Si se encuentra un `BEGIN`, se añade la transacción a la lista UNDO.\n",
    "   - Si se encuentra un `COMMIT`, la transacción pasa de UNDO a REDO.\n",
    "\n",
    "3. Al finalizar el recorrido, se procesan los logs en orden inverso:\n",
    "   - Se **deshacen (UNDO)** las operaciones de transacciones incompletas (como rollback).\n",
    "   - Se **rehacen (REDO)** las operaciones de transacciones confirmadas.\n",
    "\n",
    "\n",
    "\n",
    "\n"
   ]
  },
  {
   "cell_type": "markdown",
   "id": "86220def",
   "metadata": {},
   "source": [
    "## Concurrencia y Serialización"
   ]
  },
  {
   "cell_type": "markdown",
   "id": "f5789d7a",
   "metadata": {},
   "source": [
    "### El Problema de la Concurrencia\n"
   ]
  },
  {
   "cell_type": "markdown",
   "id": "8540a4fc",
   "metadata": {},
   "source": [
    "Debido a que cada transacción realiza operaciones que implican variables intermedias, si se interlazan operaciones de varias transacciones concurrentes sin cuidado se puede llegar a tener condiciones de carrera indeseables capaces de reflejar inconsistencias en los datos.\n",
    "\n",
    ">**Ejemplo clásico:**\n",
    ">\n",
    ">Supongamos que dos transacciones, T1 y T2, acceden al mismo saldo de una cuenta bancaria con $100 de balance.\n",
    ">\n",
    ">- T1 quiere **retirar $50**.\n",
    ">- T2 quiere **retirar $70** al mismo tiempo.\n",
    ">\n",
    ">1. T1 lee el saldo: 100\n",
    ">2. T2 lee el saldo: 100\n",
    ">3. T1 escribe saldo = 100 - 50 = 50\n",
    ">4. T2 escribe saldo = 100 - 70 = 30\n",
    ">\n",
    ">Resultado final: el saldo queda en **$30**, cuando en realidad deberían haberse retirado solo $50 *o* $70, no ambos. Se \"pierde\" una operación y el sistema queda en un estado inconsistente.\n",
    "\n",
    "\n"
   ]
  },
  {
   "cell_type": "markdown",
   "id": "e977ffd3",
   "metadata": {},
   "source": [
    "Casos como el ejemplo de arriba nos dicen que **hay maneras de ejecutar transacciones concurrentes tanto correcta como incorrectamente**.\n",
    "\n"
   ]
  },
  {
   "cell_type": "markdown",
   "id": "1b958167",
   "metadata": {},
   "source": [
    "### Supuestos de Correctiud en una Ejecución"
   ]
  },
  {
   "cell_type": "markdown",
   "id": "b195aca6",
   "metadata": {},
   "source": [
    "Se supone que hubo ejecución correcta cuando se cumpla cualquiera de estos tres supuestos:\n",
    "- Solo se esta ejecutando una sola transacción (medio trivial, ya sé)\n",
    "- Se están ejecutando varias transacciones, pero de manera serial.\n",
    "    $$ T1.A\\rarr T1.B \\rarr T1.C\\rarr T2.A\\rarr T2.B\\rarr T2.C $$\n",
    "- Se están ejecutando varias transacciones de forma entrelazada, aunque de manera tal que produzca los mismos resultados que de manera no entrelazada.\n",
    "    $$ T1.A\\rarr T2.A \\rarr T1.B\\rarr T2.B\\rarr T1.C\\rarr T2.C $$"
   ]
  },
  {
   "cell_type": "markdown",
   "id": "5cb26063",
   "metadata": {},
   "source": [
    "### Serialización\n",
    "\n"
   ]
  },
  {
   "cell_type": "markdown",
   "id": "7108690f",
   "metadata": {},
   "source": [
    "Una ejecución concurrente de un conjunto de transacciones es serializable si puede producir el mismo resultado (respecto a los datos, no a la duración) que una ejecución serial de las mismas transacciones.\n",
    "\n",
    ">**NOTA:**\n",
    ">\n",
    ">Hay ejecuciones que nunca serán serializables: **Las Ejecuciones Cíclicas**.\n",
    ">\n",
    ">En ellas, ocurre que se genera una dependenica circular donde se imposibilita la reordenación."
   ]
  },
  {
   "cell_type": "markdown",
   "id": "d12ef8f2",
   "metadata": {},
   "source": [
    "### Locking\n",
    "\n"
   ]
  },
  {
   "cell_type": "markdown",
   "id": "c1e2690f",
   "metadata": {},
   "source": [
    "Es una herramienta que permite bloquear un ítem para su escritura y lectura, como si de una cerradura se tratase.\n",
    "\n",
    "Existen dos tipos de cierre:\n",
    "- **Cierre de Lectura o Read Lock**\n",
    "- **Cierre de Escritura o Write Lock**\n",
    "\n",
    "El conflicto entre cierres aparece si al menos uno de los implicados es de escritura. Se resuelve generando una zona de exlcusión mutua: Se debe esperar  a que el cierre se libere para que lo sigan tomando.\n",
    "\n"
   ]
  },
  {
   "cell_type": "markdown",
   "id": "49d00e85",
   "metadata": {},
   "source": [
    "### Cierre de dos Fases y Deadlock"
   ]
  },
  {
   "cell_type": "markdown",
   "id": "14706261",
   "metadata": {},
   "source": [
    "Una vez que ya conocemos la necesidad de garantizar la serialización de transacciones concurrentes y el concepto de *Locking*, aparece un protocolo que nos garantiza la serialización de cualquier ejecución.\n",
    "\n",
    "\n"
   ]
  },
  {
   "cell_type": "markdown",
   "id": "d526e442",
   "metadata": {},
   "source": [
    "#### Protocolo del Cierre de dos Fases\n"
   ]
  },
  {
   "cell_type": "markdown",
   "id": "cba65901",
   "metadata": {},
   "source": [
    "\n",
    "Consiste en seguir dos reglas simples:\n",
    "\n",
    "1. Una transacción debe adquirir todos los locks que necesite **sin liberar ninguno**.\n",
    "2. Una vez que comienza a liberar locks, **no puede adquirir nuevos**.\n",
    "\n",
    "Esto garantiza la **serialización** de cualquier ejecución, ya que impide que las operaciones de diferentes transacciones se entrelacen de forma que viole el orden serial equivalente."
   ]
  },
  {
   "cell_type": "markdown",
   "id": "bf478f87",
   "metadata": {},
   "source": [
    "#### Deadlock"
   ]
  },
  {
   "cell_type": "markdown",
   "id": "a86dca0f",
   "metadata": {},
   "source": [
    "El concepto de *Locking* funciona bien hasta que se presentan situaciones en las que dos o más transacciones se bloquean mutuamente esperando recursos que la otra posee: el famoso interbloqueo o **deadlock**."
   ]
  },
  {
   "cell_type": "markdown",
   "id": "7fc44c34",
   "metadata": {},
   "source": [
    "**Prevención del Deadlock**  \n",
    "Para prevenir el deadlock, se utiliza un sistema de **priorización basado en timestamps**.  \n",
    "Cada transacción tiene un timestamp, y al solicitar un lock:\n",
    "\n",
    "- Si su timestamp es **anterior**, tiene mayor prioridad y puede continuar, forzando a la otra a abortar o esperar.  \n",
    "- Si su timestamp es **posterior**, deberá esperar o abortar, evitando así ciclos de espera.\n"
   ]
  },
  {
   "cell_type": "markdown",
   "id": "2b273253",
   "metadata": {},
   "source": [
    "**Detección de Deadlock**\n",
    "\n",
    "El deadlock puede detectarse representando cada transacción como un nodo en un grafo, donde los conflictos generan enlaces dirigidos. Si se forma un ciclo, entonces hay **deadlock**."
   ]
  }
 ],
 "metadata": {
  "language_info": {
   "name": "python"
  }
 },
 "nbformat": 4,
 "nbformat_minor": 5
}
