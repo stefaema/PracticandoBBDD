{
 "cells": [
  {
   "cell_type": "markdown",
   "id": "72a4c157",
   "metadata": {},
   "source": [
    "# Optimización de Consultas"
   ]
  },
  {
   "cell_type": "markdown",
   "id": "6eea91ae",
   "metadata": {},
   "source": [
    "## Recordando\n"
   ]
  },
  {
   "cell_type": "markdown",
   "id": "e4a08974",
   "metadata": {},
   "source": [
    "Vimos cómo el concepto de una junta o `JOIN` puede entenderse como un **producto cartesiano** entre dos relaciones, seguido de un filtrado mediante el **predicado de la junta** para descartar filas irrelevantes.\n",
    "\n",
    "Sin embargo, esto no es lo que ocurre en la práctica: calcular el producto cartesiano completo implicaría procesar NxM filas, lo cual resulta ineficiente, ya que la mayoría de esas combinaciones no aportan valor. Por eso, los sistemas de bases de datos emplean estrategias más **optimizadas** para evaluar los `JOIN`, evitando generar combinaciones innecesarias.\n"
   ]
  },
  {
   "cell_type": "markdown",
   "id": "7059f1b5",
   "metadata": {},
   "source": [
    ">**NOTA:**\n",
    ">\n",
    "> Los **índices** en bases de datos son estructuras auxiliares (como árboles o tablas hash) que permiten **acceder rápidamente** a filas según los valores de una o más columnas, evitando recorrer toda la tabla. Funcionan de manera similar al índice de un libro.\n"
   ]
  },
  {
   "cell_type": "markdown",
   "id": "206bd7c5",
   "metadata": {},
   "source": [
    "## Componentes de Ejecución en un Motor de Base de Datos\n",
    "\n",
    "\n",
    "\n"
   ]
  },
  {
   "cell_type": "markdown",
   "id": "6426db07",
   "metadata": {},
   "source": [
    "El proceso de ejecución de una consulta SQL pasa por varias etapas clave:\n",
    "\n",
    "1. **Intérprete**: Traduce la consulta `SELECT` escrita en SQL a una **expresión del Álgebra Relacional**. Esta primera forma suele ser **ineficiente**, ya que refleja literalmente la estructura de la consulta.\n",
    "\n",
    "2. **Optimizador**: Toma esa expresión ineficiente y, basándose en **reglas de transformación** (que veremos más adelante), genera una **expresión equivalente pero más eficiente** para ejecutar.\n",
    "\n",
    "3. **Generador de código**: Convierte la expresión optimizada en un plan de ejecución físico, es decir, en un **programa eficiente** que accede a los datos reales de forma óptima.\n",
    "\n",
    "> 🔎 El **optimizador** es un componente central del motor de base de datos: su función es elegir la forma más rápida de obtener los datos pedidos, sin alterar el resultado final."
   ]
  },
  {
   "cell_type": "markdown",
   "id": "9bb24524",
   "metadata": {},
   "source": [
    "## Optimización basada en Reglas"
   ]
  },
  {
   "cell_type": "markdown",
   "id": "6000449e",
   "metadata": {},
   "source": [
    "### Reglas Generales de Optimización en el Motor de Base de Datos\n",
    "\n",
    "\n"
   ]
  },
  {
   "cell_type": "markdown",
   "id": "0bbaca17",
   "metadata": {},
   "source": [
    "El optimizador aplica un conjunto de transformaciones sobre la expresión del Álgebra Relacional con el fin de mejorar el rendimiento sin alterar el resultado. Algunas reglas clave son:\n",
    "\n",
    "- **Empujar predicados de selección** lo más profundo posible en la expresión: permite **filtrar filas tempranamente**, reduciendo el volumen de datos a procesar en etapas posteriores.\n",
    "\n",
    "- **Eliminar atributos innecesarios** cuanto antes: reduce el tamaño de las tuplas intermedias y evita cargar o mover datos irrelevantes.\n",
    "\n",
    "- **Reordenar las juntas (`JOIN`)**: el orden en que se aplican las juntas afecta el costo. Explorar distintos órdenes puede reducir drásticamente la cantidad de combinaciones necesarias.\n",
    "\n",
    "> Estas reglas no cambian el resultado lógico de la consulta, pero sí impactan fuertemente en su **eficiencia**."
   ]
  },
  {
   "cell_type": "markdown",
   "id": "fc529235",
   "metadata": {},
   "source": [
    "### Reglas de Reescritura\n"
   ]
  },
  {
   "cell_type": "markdown",
   "id": "f547d457",
   "metadata": {},
   "source": [
    "Aunque no trabajemos directamente con Álgebra Relacional, muchas optimizaciones pueden analizarse a nivel de las cláusulas SQL. Algunas reglas comunes son:\n",
    "\n",
    "- **Unificación de predicados `WHERE`**: múltiples condiciones `WHERE` encadenadas pueden agruparse en un solo predicado con operadores `AND`, sin alterar el resultado.\n",
    "\n",
    "- **Orden de filtros por destructividad**: aplicar primero el filtro más restrictivo (el que descarta más filas) es lógicamente equivalente a aplicar los filtros más suaves de forma incremental, pero suele ser más eficiente.\n",
    "\n",
    "- **Conmutatividad y asociatividad de `JOIN`**: el orden lógico en que se escriben las juntas no afecta el resultado final, lo que permite al optimizador reordenarlas buscando la forma más rápida de ejecutarlas.\n",
    "\n",
    "- **Mapeo de productos cartesianos a juntas**: si después de un `CROSS JOIN` se aplica un `WHERE` que relaciona columnas de ambas tablas, el optimizador puede reescribirlo como un `INNER JOIN` más eficiente.\n",
    "\n",
    "- **Mover selecciones dentro de juntas** (*predicados locales*): si una condición del `WHERE` involucra solo una de las tablas de una junta, puede aplicarse **antes** de la junta para reducir el tamaño de entrada.\n"
   ]
  },
  {
   "cell_type": "markdown",
   "id": "7e9a1c2b",
   "metadata": {},
   "source": [
    "## Algoritmos de Resolución de Juntas\n",
    "\n"
   ]
  },
  {
   "cell_type": "markdown",
   "id": "625b3321",
   "metadata": {},
   "source": [
    "\n",
    "Los algoritmos para ejecutar `JOIN` definen cómo combinar eficientemente las tuplas de dos relaciones. A continuación se presentan dos enfoques básicos:\n",
    "\n",
    "#### Iteración ingenua\n",
    "- Examina **todos los pares posibles** de tuplas entre las dos relaciones.\n",
    "- Muy costosa si ambas relaciones son grandes.\n",
    "- **Costo**: `bloques(A) + tuplas(A) * bloques(B)`\n",
    "\n",
    "#### Iteración por bloques (páginas)\n",
    "- Se toma cada bloque de A y se **itera sobre los bloques de B**, buscando coincidencias.\n",
    "- Más eficiente si una de las relaciones cabe completamente en memoria.\n",
    "- **Costo**: `bloques(A) + bloques(A) * bloques(B)`\n",
    "\n",
    "#### Método Hash\n",
    "- Se construye en **memoria** una **tabla hash** con los valores de los atributos de junta de la **relación más pequeña** (almacenando sus direcciones).\n",
    "- Luego se **recorre la otra relación**, aplicando la función hash y buscando coincidencias en la tabla construida.\n",
    "- Es muy eficiente cuando una de las relaciones **cabe completamente en memoria**.\n",
    "- **Costo**: Es aproximadamente la suma de las páginas/bloques de ambas relaciones.\n",
    "\n",
    "#### Uso de índices\n",
    "- Se aprovechan **estructuras de ordenación** ya existentes en el SGBD para acceder directamente a las tuplas relevantes.\n",
    "- Muy útil cuando solo una **fracción** de la relación secundaria participa en la junta.\n",
    "- **Costo**: acceso al **índice** + acceso a las **tuplas correspondientes**.\n",
    "\n",
    "#### Sort-Merge\n",
    "- Se **ordenan ambas relaciones** por los atributos de junta y luego se recorren secuencialmente en paralelo, uniendo las coincidencias.\n",
    "- Requiere ordenar si los datos no están ya ordenados.\n",
    "- **Costo**: costo de ordenación (`B log B`) + **suma de bloques** de ambas relaciones.\n",
    "\n"
   ]
  },
  {
   "cell_type": "markdown",
   "id": "7ddeda56",
   "metadata": {},
   "source": [
    "## Conclusión: De la Optimización a la Programación Automática\n",
    "\n",
    "Todos estos métodos de ejecución (`JOIN`), combinados con las **reglas de optimización**, los **planes de consulta** y las **transformaciones internas**, permiten que el sistema genere de forma automática el mejor programa posible para responder a una consulta.\n",
    "\n",
    "Esto refuerza la **naturaleza declarativa de SQL**: el usuario dice *qué* quiere, y el motor decide *cómo* lograrlo.  \n",
    "En esencia, estamos frente a un claro ejemplo de **programación automática**, donde el sistema se encarga de generar el código ejecutable sin intervención del usuario.\n",
    "\n",
    "> A diferencia de la **programación generativa**, en la cual el programador crea código que genera código, la **programación automática** es completamente gestionada por el sistema, de forma transparente para el usuario.\n",
    "\n"
   ]
  }
 ],
 "metadata": {
  "language_info": {
   "name": "python"
  }
 },
 "nbformat": 4,
 "nbformat_minor": 5
}
